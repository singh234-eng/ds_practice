{
 "cells": [
  {
   "cell_type": "markdown",
   "id": "d27996d5-1019-49ee-bcdd-c74571d81acf",
   "metadata": {},
   "source": [
    "Data Science Tools and Ecosystem"
   ]
  },
  {
   "cell_type": "markdown",
   "id": "473b6533-d3b3-473d-ab1b-2d14723bf62b",
   "metadata": {},
   "source": [
    "In this notebook, Data Science Languages, Tools and Ecosystem are summarized."
   ]
  },
  {
   "cell_type": "markdown",
   "id": "b9e912ea-63c1-4f98-abc5-6d387d82f0c2",
   "metadata": {},
   "source": [
    "Some of the popular languages that Data Scientists use are:\n",
    "1) Python\n",
    "2) R\n",
    "3) Julia"
   ]
  },
  {
   "cell_type": "markdown",
   "id": "974d2455-0f3d-4ef5-afd0-458c27d2aeb3",
   "metadata": {},
   "source": [
    "Some of the commonly used libraries used by Data Scientists include:\n",
    "1. NumPy\n",
    "2. Pandas\n",
    "3. Keras"
   ]
  },
  {
   "cell_type": "markdown",
   "id": "3c118537-5af3-4f4a-818d-67173a40197f",
   "metadata": {},
   "source": [
    "| Data Science Tools |\n",
    "| :- |\n",
    "| TensorFlow |\n",
    "| SAS |\n",
    "| Apache Hadoop |"
   ]
  },
  {
   "cell_type": "markdown",
   "id": "70847a3f-99dd-42a7-aff4-1c90c29c7a87",
   "metadata": {
    "tags": []
   },
   "source": [
    "<h3> Below are a few examples of evaluating arithmetic expressions in Python <h3>"
   ]
  },
  {
   "cell_type": "code",
   "execution_count": 2,
   "id": "83c83134-1557-47be-98e5-7fde06477eee",
   "metadata": {
    "tags": []
   },
   "outputs": [
    {
     "data": {
      "text/plain": [
       "17"
      ]
     },
     "execution_count": 2,
     "metadata": {},
     "output_type": "execute_result"
    }
   ],
   "source": [
    "###This a simple arithmetic expression to mutiply then add integers\n",
    "(3*4)+5"
   ]
  },
  {
   "cell_type": "code",
   "execution_count": 3,
   "id": "5ef9d0b1-112b-4d93-8100-e91b59f574e0",
   "metadata": {
    "tags": []
   },
   "outputs": [
    {
     "data": {
      "text/plain": [
       "3.3333333333333335"
      ]
     },
     "execution_count": 3,
     "metadata": {},
     "output_type": "execute_result"
    }
   ],
   "source": [
    "###This will convert 200 minutes to hours by diving by 60\n",
    "200/60"
   ]
  },
  {
   "cell_type": "markdown",
   "id": "fcc63a18-1256-4582-ba3f-a9b5cb30ce18",
   "metadata": {
    "tags": []
   },
   "source": [
    "__Objectives__\n",
    "- Popular Language for DS\n",
    "- Popular tools for DS\n",
    "- Popular libraries for DS"
   ]
  },
  {
   "cell_type": "markdown",
   "id": "2ea4752e-6a72-46b7-9707-4d091a8c2da8",
   "metadata": {
    "tags": []
   },
   "source": [
    "<h2>Author<h2>\n",
    "Ashish Kumar Singh"
   ]
  },
  {
   "cell_type": "code",
   "execution_count": null,
   "id": "8244da5b-edd4-4b8f-bf98-bdf610dfa405",
   "metadata": {},
   "outputs": [],
   "source": []
  }
 ],
 "metadata": {
  "kernelspec": {
   "display_name": "Python",
   "language": "python",
   "name": "conda-env-python-py"
  },
  "language_info": {
   "codemirror_mode": {
    "name": "ipython",
    "version": 3
   },
   "file_extension": ".py",
   "mimetype": "text/x-python",
   "name": "python",
   "nbconvert_exporter": "python",
   "pygments_lexer": "ipython3",
   "version": "3.7.12"
  }
 },
 "nbformat": 4,
 "nbformat_minor": 5
}
